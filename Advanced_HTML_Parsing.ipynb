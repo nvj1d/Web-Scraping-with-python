{
  "nbformat": 4,
  "nbformat_minor": 0,
  "metadata": {
    "colab": {
      "name": "Advanced HTML Parsing.ipynb",
      "provenance": [],
      "authorship_tag": "ABX9TyM4pntKe0Bbinp2GTAbQzS8"
    },
    "kernelspec": {
      "name": "python3",
      "display_name": "Python 3"
    },
    "language_info": {
      "name": "python"
    }
  },
  "cells": [
    {
      "cell_type": "code",
      "execution_count": 2,
      "metadata": {
        "id": "2EfqKkY57JIt"
      },
      "outputs": [],
      "source": [
        "from urllib.request import urlopen\n",
        "from bs4 import BeautifulSoup"
      ]
    },
    {
      "cell_type": "code",
      "source": [
        "html = urlopen('https://www.pythonscraping.com/pages/warandpeace.html')\n",
        "bs = BeautifulSoup(html.read(), 'html.parser')"
      ],
      "metadata": {
        "id": "1Ezf2CFk7SGH"
      },
      "execution_count": 7,
      "outputs": []
    },
    {
      "cell_type": "markdown",
      "source": [
        "###extract all spans with the calss green :\n"
      ],
      "metadata": {
        "id": "ul6eXE1rCr2O"
      }
    },
    {
      "cell_type": "code",
      "source": [
        "nameList = bs.findAll('span', {'class': 'green'})"
      ],
      "metadata": {
        "id": "ncrqoEOl7ged"
      },
      "execution_count": 21,
      "outputs": []
    },
    {
      "cell_type": "code",
      "source": [
        "#list all names\n",
        "for name in nameList:\n",
        "  print(name.get_text())"
      ],
      "metadata": {
        "colab": {
          "base_uri": "https://localhost:8080/"
        },
        "id": "3DYww9y47yr7",
        "outputId": "18ecfe01-5e9c-43b8-80e9-949aadd08282"
      },
      "execution_count": 22,
      "outputs": [
        {
          "output_type": "stream",
          "name": "stdout",
          "text": [
            "Anna\n",
            "Pavlovna Scherer\n",
            "Empress Marya\n",
            "Fedorovna\n",
            "Prince Vasili Kuragin\n",
            "Anna Pavlovna\n",
            "St. Petersburg\n",
            "the prince\n",
            "Anna Pavlovna\n",
            "Anna Pavlovna\n",
            "the prince\n",
            "the prince\n",
            "the prince\n",
            "Prince Vasili\n",
            "Anna Pavlovna\n",
            "Anna Pavlovna\n",
            "the prince\n",
            "Wintzingerode\n",
            "King of Prussia\n",
            "le Vicomte de Mortemart\n",
            "Montmorencys\n",
            "Rohans\n",
            "Abbe Morio\n",
            "the Emperor\n",
            "the prince\n",
            "Prince Vasili\n",
            "Dowager Empress Marya Fedorovna\n",
            "the baron\n",
            "Anna Pavlovna\n",
            "the Empress\n",
            "the Empress\n",
            "Anna Pavlovna's\n",
            "Her Majesty\n",
            "Baron\n",
            "Funke\n",
            "The prince\n",
            "Anna\n",
            "Pavlovna\n",
            "the Empress\n",
            "The prince\n",
            "Anatole\n",
            "the prince\n",
            "The prince\n",
            "Anna\n",
            "Pavlovna\n",
            "Anna Pavlovna\n"
          ]
        }
      ]
    },
    {
      "cell_type": "markdown",
      "source": [
        "## get the number of times a text is surrounded by a tag!"
      ],
      "metadata": {
        "id": "HDALlSJhCyyk"
      }
    },
    {
      "cell_type": "code",
      "source": [
        "nameList = bs.findAll(text=\"the prince\")"
      ],
      "metadata": {
        "id": "pnq2-IFB70si"
      },
      "execution_count": 23,
      "outputs": []
    },
    {
      "cell_type": "code",
      "source": [
        "print(len(nameList))"
      ],
      "metadata": {
        "colab": {
          "base_uri": "https://localhost:8080/"
        },
        "id": "H3f9ic06DKiY",
        "outputId": "f16e9fa1-18a0-495f-c98e-c7c8a5ae8a47"
      },
      "execution_count": 24,
      "outputs": [
        {
          "output_type": "stream",
          "name": "stdout",
          "text": [
            "7\n"
          ]
        }
      ]
    },
    {
      "cell_type": "markdown",
      "source": [
        "## get the title by keyword!"
      ],
      "metadata": {
        "id": "hxcmjyG5Dn5n"
      }
    },
    {
      "cell_type": "code",
      "source": [
        "title = bs.findAll(id='title', class_='text')"
      ],
      "metadata": {
        "id": "Sdd09gERDONq"
      },
      "execution_count": 25,
      "outputs": []
    },
    {
      "cell_type": "code",
      "source": [
        "title"
      ],
      "metadata": {
        "colab": {
          "base_uri": "https://localhost:8080/"
        },
        "id": "TMxboJ57D1hF",
        "outputId": "ae44bece-01a4-4232-e5ae-a4406e0f7540"
      },
      "execution_count": 26,
      "outputs": [
        {
          "output_type": "execute_result",
          "data": {
            "text/plain": [
              "[]"
            ]
          },
          "metadata": {},
          "execution_count": 26
        }
      ]
    },
    {
      "cell_type": "code",
      "source": [
        "title = bs.find(id='title')"
      ],
      "metadata": {
        "id": "3Q1wKnoMD7-M"
      },
      "execution_count": 35,
      "outputs": []
    },
    {
      "cell_type": "code",
      "source": [
        "title"
      ],
      "metadata": {
        "id": "6i-IJlGfEAxL"
      },
      "execution_count": 36,
      "outputs": []
    },
    {
      "cell_type": "code",
      "source": [
        "#these two lignes are identical:\n",
        "bs.find_all(id='text')\n",
        "bs.find_all('', {'id':'text'})"
      ],
      "metadata": {
        "id": "RD1A7Aj4FEz0"
      },
      "execution_count": null,
      "outputs": []
    },
    {
      "cell_type": "markdown",
      "source": [
        "# Dealing with children and other descendants:"
      ],
      "metadata": {
        "id": "swzASSAtROp8"
      }
    },
    {
      "cell_type": "code",
      "source": [
        "from urllib.request import urlopen\n",
        "from bs4 import BeautifulSoup"
      ],
      "metadata": {
        "id": "-zvevxFEI3Kv"
      },
      "execution_count": 39,
      "outputs": []
    },
    {
      "cell_type": "code",
      "source": [
        "html = urlopen('http://www.pythonscraping.com/pages/page3.html')\n",
        "bs = BeautifulSoup(html, 'html.parser')"
      ],
      "metadata": {
        "id": "jao2yt0-VLCD"
      },
      "execution_count": 40,
      "outputs": []
    },
    {
      "cell_type": "code",
      "source": [
        "for child in bs.find('table',{'id':'giftList'}).children:\n",
        "    print(child)"
      ],
      "metadata": {
        "id": "WRM6lmwkVNJT"
      },
      "execution_count": null,
      "outputs": []
    },
    {
      "cell_type": "markdown",
      "source": [
        "# Dealing with siblings:"
      ],
      "metadata": {
        "id": "QOMpk0ybVgh0"
      }
    },
    {
      "cell_type": "code",
      "source": [
        "for sibling in bs.find('table', {'id':'giftList'}).tr.next_siblings:\n",
        "    print(sibling)"
      ],
      "metadata": {
        "id": "WZpS8cPdVN8y"
      },
      "execution_count": null,
      "outputs": []
    },
    {
      "cell_type": "markdown",
      "source": [
        "# Dealing with parents:"
      ],
      "metadata": {
        "id": "yEBLwyzcWP5c"
      }
    },
    {
      "cell_type": "code",
      "source": [
        "print(bs.find('img',{'src':'../img/gifts/img1.jpg'}).parent.previous_sibling.get_text())"
      ],
      "metadata": {
        "colab": {
          "base_uri": "https://localhost:8080/"
        },
        "id": "AqTBxHTZV-19",
        "outputId": "9ee36f95-d7e2-41df-f203-e2fb0d62be87"
      },
      "execution_count": 43,
      "outputs": [
        {
          "output_type": "stream",
          "name": "stdout",
          "text": [
            "\n",
            "$15.00\n",
            "\n"
          ]
        }
      ]
    },
    {
      "cell_type": "markdown",
      "source": [
        "# Regular Expressions:"
      ],
      "metadata": {
        "id": "AUPEjjqWW7QX"
      }
    },
    {
      "cell_type": "code",
      "source": [
        "import re"
      ],
      "metadata": {
        "id": "twvVfwzOX0-C"
      },
      "execution_count": 46,
      "outputs": []
    },
    {
      "cell_type": "code",
      "source": [
        "images = bs.find_all('img',{'src':re.compile('\\.\\.\\/img\\/gifts/img.*\\.jpg')})"
      ],
      "metadata": {
        "id": "xBy2rxJXWXY7"
      },
      "execution_count": 47,
      "outputs": []
    },
    {
      "cell_type": "code",
      "source": [
        "for image in images:\n",
        "  print(image['src'])"
      ],
      "metadata": {
        "colab": {
          "base_uri": "https://localhost:8080/"
        },
        "id": "p4I_7C2LXySh",
        "outputId": "e97e598e-296c-4bd2-ab17-40246a592cf4"
      },
      "execution_count": 49,
      "outputs": [
        {
          "output_type": "stream",
          "name": "stdout",
          "text": [
            "../img/gifts/img1.jpg\n",
            "../img/gifts/img2.jpg\n",
            "../img/gifts/img3.jpg\n",
            "../img/gifts/img4.jpg\n",
            "../img/gifts/img6.jpg\n"
          ]
        }
      ]
    },
    {
      "cell_type": "markdown",
      "source": [
        "# Lambda Expressions:"
      ],
      "metadata": {
        "id": "-1aDfQfgajS2"
      }
    },
    {
      "cell_type": "code",
      "source": [
        "#return all tags that has exactly two attributes\n",
        "bs.find_all(lambda tag: len(tag.attrs) == 2)"
      ],
      "metadata": {
        "id": "_1TcvVHUX7og"
      },
      "execution_count": null,
      "outputs": []
    },
    {
      "cell_type": "code",
      "source": [
        "#return tags that has a specific text\n",
        "bs.find_all(lambda tag: tag.get_text() == 'Or maybe he\\'s only resting?')"
      ],
      "metadata": {
        "colab": {
          "base_uri": "https://localhost:8080/"
        },
        "id": "SKOjbUi5a7La",
        "outputId": "9d1efa9c-3476-40e4-9897-c8c5308a95a6"
      },
      "execution_count": 52,
      "outputs": [
        {
          "output_type": "execute_result",
          "data": {
            "text/plain": [
              "[<span class=\"excitingNote\">Or maybe he's only resting?</span>]"
            ]
          },
          "metadata": {},
          "execution_count": 52
        }
      ]
    },
    {
      "cell_type": "code",
      "source": [
        "#has the same meaning\n",
        "bs.find_all('', text='Or maybe he\\'s only resting?')"
      ],
      "metadata": {
        "colab": {
          "base_uri": "https://localhost:8080/"
        },
        "id": "czPtlfrsbaQB",
        "outputId": "7f897fd0-3768-40f0-f438-217410520d7e"
      },
      "execution_count": 53,
      "outputs": [
        {
          "output_type": "execute_result",
          "data": {
            "text/plain": [
              "[\"Or maybe he's only resting?\"]"
            ]
          },
          "metadata": {},
          "execution_count": 53
        }
      ]
    },
    {
      "cell_type": "code",
      "source": [],
      "metadata": {
        "id": "jKDdC7RNbNDY"
      },
      "execution_count": null,
      "outputs": []
    }
  ]
}