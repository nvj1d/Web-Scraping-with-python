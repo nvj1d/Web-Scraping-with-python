{
  "nbformat": 4,
  "nbformat_minor": 0,
  "metadata": {
    "colab": {
      "name": "making the first scraper.ipynb",
      "provenance": [],
      "authorship_tag": "ABX9TyP2Eb1+Z1qvxV+N2tSor87J"
    },
    "kernelspec": {
      "name": "python3",
      "display_name": "Python 3"
    },
    "language_info": {
      "name": "python"
    }
  },
  "cells": [
    {
      "cell_type": "markdown",
      "source": [
        "# a simple get request:"
      ],
      "metadata": {
        "id": "Mv3flEXGpdph"
      }
    },
    {
      "cell_type": "code",
      "execution_count": 22,
      "metadata": {
        "id": "hePPh2GtcCmw"
      },
      "outputs": [],
      "source": [
        "from urllib.request import urlopen"
      ]
    },
    {
      "cell_type": "code",
      "source": [
        "url = \"http://pythonscraping.com/pages/page1.html\""
      ],
      "metadata": {
        "id": "leSxrB-NyQ4J"
      },
      "execution_count": 37,
      "outputs": []
    },
    {
      "cell_type": "code",
      "source": [
        "html = urlopen(url)"
      ],
      "metadata": {
        "id": "-4z9zFBddDha"
      },
      "execution_count": 38,
      "outputs": []
    },
    {
      "cell_type": "code",
      "source": [
        "content = html.read()"
      ],
      "metadata": {
        "id": "tbzlgUWEwZui"
      },
      "execution_count": 24,
      "outputs": []
    },
    {
      "cell_type": "code",
      "source": [
        "print(content)"
      ],
      "metadata": {
        "colab": {
          "base_uri": "https://localhost:8080/"
        },
        "id": "wrsEM55_dMbn",
        "outputId": "894fe779-0c62-4d65-cf6d-b69a26698571"
      },
      "execution_count": 25,
      "outputs": [
        {
          "output_type": "stream",
          "name": "stdout",
          "text": [
            "b'<html>\\n<head>\\n<title>A Useful Page</title>\\n</head>\\n<body>\\n<h1>An Interesting Title</h1>\\n<div>\\nLorem ipsum dolor sit amet, consectetur adipisicing elit, sed do eiusmod tempor incididunt ut labore et dolore magna aliqua. Ut enim ad minim veniam, quis nostrud exercitation ullamco laboris nisi ut aliquip ex ea commodo consequat. Duis aute irure dolor in reprehenderit in voluptate velit esse cillum dolore eu fugiat nulla pariatur. Excepteur sint occaecat cupidatat non proident, sunt in culpa qui officia deserunt mollit anim id est laborum.\\n</div>\\n</body>\\n</html>\\n'\n"
          ]
        }
      ]
    },
    {
      "cell_type": "code",
      "source": [
        "print(type(html))"
      ],
      "metadata": {
        "colab": {
          "base_uri": "https://localhost:8080/"
        },
        "id": "ClnrQ1VNvOtU",
        "outputId": "d988f0ea-492a-4934-e089-e59e3ee98e83"
      },
      "execution_count": 28,
      "outputs": [
        {
          "output_type": "stream",
          "name": "stdout",
          "text": [
            "<class 'http.client.HTTPResponse'>\n"
          ]
        }
      ]
    },
    {
      "cell_type": "markdown",
      "source": [
        "#Introduction to BeautifulSoup:"
      ],
      "metadata": {
        "id": "X5ucPh78plLG"
      }
    },
    {
      "cell_type": "code",
      "source": [
        "from bs4 import BeautifulSoup"
      ],
      "metadata": {
        "id": "CNV0P4teppm2"
      },
      "execution_count": 29,
      "outputs": []
    },
    {
      "cell_type": "code",
      "source": [
        "bs = BeautifulSoup(content, 'html.parser')"
      ],
      "metadata": {
        "id": "XaP__TsPuhCC"
      },
      "execution_count": 30,
      "outputs": []
    },
    {
      "cell_type": "code",
      "source": [
        "# get the first h1 tag\n",
        "print(bs.h1)\n",
        "print(bs.html.body.h1)\n",
        "print(bs.body.h1)"
      ],
      "metadata": {
        "colab": {
          "base_uri": "https://localhost:8080/"
        },
        "id": "PQBjCldgvpbI",
        "outputId": "70409c33-0b6c-4f9c-e5e0-99214a3907f2"
      },
      "execution_count": 34,
      "outputs": [
        {
          "output_type": "stream",
          "name": "stdout",
          "text": [
            "<h1>An Interesting Title</h1>\n",
            "<h1>An Interesting Title</h1>\n",
            "<h1>An Interesting Title</h1>\n"
          ]
        }
      ]
    },
    {
      "cell_type": "markdown",
      "source": [
        "#handling errors like 404 and 500:"
      ],
      "metadata": {
        "id": "wH-fpMHVx2Ia"
      }
    },
    {
      "cell_type": "code",
      "source": [
        "from urllib.error import HTTPError "
      ],
      "metadata": {
        "id": "wqEFWk5Px8bx"
      },
      "execution_count": 35,
      "outputs": []
    },
    {
      "cell_type": "code",
      "source": [
        "try: \n",
        "  html = urlopen(url)\n",
        "except HTTPError as e:\n",
        "  print(e)\n",
        "  #return Null break of something!\n",
        "else:\n",
        "  #program continues\n",
        "  pass"
      ],
      "metadata": {
        "id": "KcSXKu10yIRA"
      },
      "execution_count": 44,
      "outputs": []
    },
    {
      "cell_type": "markdown",
      "source": [
        "# the server maybe down or no response received!"
      ],
      "metadata": {
        "id": "gJiHArGP0oH_"
      }
    },
    {
      "cell_type": "code",
      "source": [
        "from urllib.error import URLError"
      ],
      "metadata": {
        "id": "TIuShC0vyYkG"
      },
      "execution_count": 45,
      "outputs": []
    },
    {
      "cell_type": "code",
      "source": [
        "try:\n",
        "  html = urlopen(url)\n",
        "except HTTPError as e:\n",
        "  print(e)\n",
        "except URLError as e:\n",
        "  print('the server could not be found!')\n",
        "else:\n",
        "  print('It Worked!')"
      ],
      "metadata": {
        "colab": {
          "base_uri": "https://localhost:8080/"
        },
        "id": "YL8uyeIe05Yz",
        "outputId": "90e59ec4-4760-4b08-b4de-19c81495b6ce"
      },
      "execution_count": 46,
      "outputs": [
        {
          "output_type": "stream",
          "name": "stdout",
          "text": [
            "It Worked!\n"
          ]
        }
      ]
    },
    {
      "cell_type": "markdown",
      "source": [
        "# now let's handle the content problems:"
      ],
      "metadata": {
        "id": "_7Nh6-JU2OKB"
      }
    },
    {
      "cell_type": "code",
      "source": [
        "print(bs.nonExistentTag) "
      ],
      "metadata": {
        "colab": {
          "base_uri": "https://localhost:8080/"
        },
        "id": "kRRz0Q-C1j1y",
        "outputId": "0ce37d29-ff56-476e-b54c-1685547311ce"
      },
      "execution_count": 52,
      "outputs": [
        {
          "output_type": "stream",
          "name": "stdout",
          "text": [
            "None\n"
          ]
        }
      ]
    },
    {
      "cell_type": "code",
      "source": [
        "#this will throw an exception --> object has no attribut '#Tag'\n",
        "#print(bs.nonExistentTag.someTag)"
      ],
      "metadata": {
        "id": "9Pc7ua4w18WC"
      },
      "execution_count": 54,
      "outputs": []
    },
    {
      "cell_type": "markdown",
      "source": [
        "# check for both situations: "
      ],
      "metadata": {
        "id": "05QzX4nX4CLI"
      }
    },
    {
      "cell_type": "code",
      "source": [
        "try:\n",
        "  badContent = bs.nonExistingTag.someTag\n",
        "except AttributeError as e:\n",
        "  print('Tag was not found')\n",
        "else:\n",
        "  if badContent == None:\n",
        "    print('tag was not found')\n",
        "  else:\n",
        "    print(badContent)"
      ],
      "metadata": {
        "colab": {
          "base_uri": "https://localhost:8080/"
        },
        "id": "XxHqNjGj4FW_",
        "outputId": "bf3f6a8e-335e-47f8-85bc-46a0edafc7b0"
      },
      "execution_count": 56,
      "outputs": [
        {
          "output_type": "stream",
          "name": "stdout",
          "text": [
            "Tag was not found\n"
          ]
        }
      ]
    },
    {
      "cell_type": "markdown",
      "source": [
        "# wrap up :"
      ],
      "metadata": {
        "id": "ph1Dn6a36m8U"
      }
    },
    {
      "cell_type": "code",
      "source": [
        "def getTitle(url):\n",
        "  try:\n",
        "    hml = urlopen(url)\n",
        "  except HTTPError as e:\n",
        "    return(None)\n",
        "  try:\n",
        "    bs = BeautifulSoup(html.read(), 'html.parser')\n",
        "    title = bs.body.h1 \n",
        "  except AttributeError as e:\n",
        "    return None \n",
        "  return title \n",
        "\n",
        "title = getTitle('http://www.pythonscraping.com/pages/page1.html')\n",
        "if title == None :\n",
        "  print('title could not be found!')\n",
        "else:\n",
        "  print(title)  "
      ],
      "metadata": {
        "colab": {
          "base_uri": "https://localhost:8080/"
        },
        "id": "_6-yz0Z84uHi",
        "outputId": "9c5beae7-44dc-48ff-e37f-b9de626af8e5"
      },
      "execution_count": 58,
      "outputs": [
        {
          "output_type": "stream",
          "name": "stdout",
          "text": [
            "<h1>An Interesting Title</h1>\n"
          ]
        }
      ]
    },
    {
      "cell_type": "code",
      "source": [],
      "metadata": {
        "id": "Ym12be6m6TRd"
      },
      "execution_count": null,
      "outputs": []
    }
  ]
}